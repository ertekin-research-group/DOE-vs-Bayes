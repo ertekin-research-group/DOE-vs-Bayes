{
 "cells": [
  {
   "cell_type": "markdown",
   "metadata": {},
   "source": [
    "# Bayesian Statistics for 2 input variables"
   ]
  },
  {
   "cell_type": "markdown",
   "metadata": {},
   "source": [
    "Execute code similar to `./bayes.ipynb` for the objective function (2 variables):\n",
    "### $f(x) = {x_1} \\sin ({x_1}) + {x_2} \\sin ({x_2}) \\quad$   for ${x_1}, {x_2}$ $\\varepsilon$ $[0,10]$. "
   ]
  },
  {
   "cell_type": "code",
   "execution_count": 5,
   "metadata": {},
   "outputs": [],
   "source": [
    "# import all relevant libraries\n",
    "\n",
    "import numpy as np \n",
    "from math import pi\n",
    "from scipy.stats import norm\n",
    "from numpy.random import normal\n",
    "from numpy.random import random\n",
    "from numpy import vstack\n",
    "from matplotlib import pyplot as plt\n",
    "from warnings import catch_warnings\n",
    "from warnings import simplefilter\n",
    "from sklearn.gaussian_process import GaussianProcessRegressor\n",
    "from sklearn.gaussian_process.kernels import (RBF, Matern, RationalQuadratic,\n",
    "                                              ExpSineSquared, DotProduct,\n",
    "                                              ConstantKernel)"
   ]
  },
  {
   "cell_type": "code",
   "execution_count": 6,
   "metadata": {},
   "outputs": [],
   "source": [
    "# objective function\n",
    "def objective(x1, x2, noise=0):\n",
    "    y = x1 * np.sin(x1) + x2 * np.sin(x2)\n",
    "    dy = 0.5 + 1.0 * np.random.normal(0,noise,y.shape)\n",
    "    y += dy\n",
    "    return y"
   ]
  },
  {
   "cell_type": "code",
   "execution_count": null,
   "metadata": {},
   "outputs": [],
   "source": []
  },
  {
   "cell_type": "markdown",
   "metadata": {},
   "source": [
    "# Bayesian Statistics for more than 2 input variables"
   ]
  },
  {
   "cell_type": "markdown",
   "metadata": {},
   "source": [
    "Execute a generalisable code similar to `./bayes.ipynb`. Use the objective function:\n",
    "\n",
    "### $$f(x)  = \\sum_{i=1}^n {x_i} \\sin ({x_i}) \\quad {\\bf \\text{for}} \\;x_i \\, \\varepsilon \\, [0,10]$$"
   ]
  },
  {
   "cell_type": "code",
   "execution_count": 3,
   "metadata": {},
   "outputs": [],
   "source": [
    "# import all relevant libraries\n",
    "\n",
    "import numpy as np \n",
    "from math import pi\n",
    "from scipy.stats import norm\n",
    "from numpy.random import normal\n",
    "from numpy.random import random\n",
    "from numpy import vstack\n",
    "from matplotlib import pyplot as plt\n",
    "from warnings import catch_warnings\n",
    "from warnings import simplefilter\n",
    "from sklearn.gaussian_process import GaussianProcessRegressor\n",
    "from sklearn.gaussian_process.kernels import (RBF, Matern, RationalQuadratic,\n",
    "                                              ExpSineSquared, DotProduct,\n",
    "                                              ConstantKernel)"
   ]
  },
  {
   "cell_type": "code",
   "execution_count": 4,
   "metadata": {},
   "outputs": [],
   "source": [
    "# objective function\n",
    "\n",
    "def objective(var_list, noise=0):\n",
    "    y = 0\n",
    "    for x in var_list:\n",
    "        y += x * np.sin(x)\n",
    "    dy = 0.5 + 1.0 * np.random.normal(0,noise,y.shape)\n",
    "    y += dy\n",
    "    return y"
   ]
  }
 ],
 "metadata": {
  "kernelspec": {
   "display_name": "Python 3",
   "language": "python",
   "name": "python3"
  },
  "language_info": {
   "codemirror_mode": {
    "name": "ipython",
    "version": 3
   },
   "file_extension": ".py",
   "mimetype": "text/x-python",
   "name": "python",
   "nbconvert_exporter": "python",
   "pygments_lexer": "ipython3",
   "version": "3.8.5"
  }
 },
 "nbformat": 4,
 "nbformat_minor": 4
}
