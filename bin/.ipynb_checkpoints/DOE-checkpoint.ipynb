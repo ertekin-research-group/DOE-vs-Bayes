{
 "cells": [
  {
   "cell_type": "markdown",
   "metadata": {},
   "source": [
    "# Design of Experiments for Process Optimization \n",
    "\n",
    "## *Using a DOE-style approach to find the input parameters in a search space that optimize a desired output*\n",
    "\n",
    "Template matching is a quick method to segment microscopy images. Although it requires considerable human input, it is very versatile and reliable. \n",
    "\n",
    "In this tutorial you will learn how to implement template matching and use it to segment a scanning electron microscopy image of graphene on a substrate.\n",
    "\n",
    "**Outline:**\n",
    "1. Import image\n",
    "2. Define parameters\n",
    "3. Match template\n",
    "4. See effects of varying parameters\n",
    "\n",
    "**Get started:** Click \"Shift-Enter\" to run the code in each cell."
   ]
  },
  {
   "cell_type": "markdown",
   "metadata": {},
   "source": [
    "## <ins>Let's begin</ins>\n",
    "\n",
    "We will first import the relevant Python libraries."
   ]
  },
  {
   "cell_type": "code",
   "execution_count": null,
   "metadata": {},
   "outputs": [],
   "source": [
    "# import all relevant libraries\n",
    "\n",
    "import numpy as np\n",
    "import matplotlib.pyplot as plt\n",
    "import cv2 # this is the computer vision library that allows us to perform template matching"
   ]
  },
  {
   "cell_type": "markdown",
   "metadata": {},
   "source": [
    "## <ins>Import the image</ins>\n",
    "\n",
    "Now, we import the image as a numpy n-dimensional array and display the image and its resolution."
   ]
  },
  {
   "cell_type": "code",
   "execution_count": null,
   "metadata": {
    "scrolled": false
   },
   "outputs": [],
   "source": [
    "img_gray = cv2.imread('../data/test_template.tif', 0) # import the grayscale image as an ndarray\n",
    "\n",
    "imgplot = plt.imshow(img_gray, cmap='gray') # display the raw image"
   ]
  },
  {
   "cell_type": "markdown",
   "metadata": {},
   "source": [
    "## <ins>Define the parameters</ins>\n",
    "\n",
    "We define all the parameters that we can change."
   ]
  },
  {
   "cell_type": "code",
   "execution_count": null,
   "metadata": {},
   "outputs": [],
   "source": [
    "template_size = 20                 # define the side length of the template\n",
    "threshold = 0.25              # define the threshold\n",
    "template_posn = [275,500]     # define the position of the template"
   ]
  },
  {
   "cell_type": "code",
   "execution_count": null,
   "metadata": {},
   "outputs": [],
   "source": [
    "## NOTE: THIS CELL IS NOT REQUIRED IN THE SEGMENTATION PROCESS. IT IS ONLY FOR VISUAL AID.\n",
    "\n",
    "# View the template in the image\n",
    "\n",
    "img_rgb = cv2.cvtColor(img_gray, cv2.COLOR_GRAY2BGR) # convert the image from grayscale to RGB\n",
    "# add the rectangle to show the template\n",
    "cv2.rectangle(img_rgb, (template_posn[1],template_posn[0]), (template_posn[1]+template_size,template_posn[0]+template_size), (255,0,0), 2)\n",
    "imgplot = plt.imshow(img_rgb) # display the image with the template marked"
   ]
  },
  {
   "cell_type": "code",
   "execution_count": null,
   "metadata": {
    "scrolled": true
   },
   "outputs": [],
   "source": [
    "template = img_gray[template_posn[0]:template_posn[0]+template_size,template_posn[1]:template_posn[1]+template_size] # assign the template to a new array\n",
    "\n",
    "template_plot = plt.imshow(template, cmap='gray') #display the template"
   ]
  },
  {
   "cell_type": "markdown",
   "metadata": {},
   "source": [
    "## <ins>Match template</ins>\n",
    "\n",
    "Now, we match the template to each tile in the image. The [matchTemplate](https://docs.opencv.org/3.4/df/dfb/group__imgproc__object.html#ga586ebfb0a7fb604b35a23d85391329be) function returns an ndarray that can be interpretated as the degree of similarity."
   ]
  },
  {
   "cell_type": "code",
   "execution_count": null,
   "metadata": {},
   "outputs": [],
   "source": [
    "res = cv2.matchTemplate(img_gray, template, cv2.TM_SQDIFF_NORMED)\n",
    "\n",
    "res_plot = plt.imshow(res, cmap='gray') # display the match percentages as a heat map"
   ]
  },
  {
   "cell_type": "code",
   "execution_count": null,
   "metadata": {
    "scrolled": true
   },
   "outputs": [],
   "source": [
    "simple_mask = np.where(res<=threshold, 1, 0) # apply a binary filter\n",
    "\n",
    "simple_plt = plt.imshow(simple_mask, cmap='gray') # display the masked image"
   ]
  },
  {
   "cell_type": "markdown",
   "metadata": {},
   "source": [
    "## <ins>Varying the parameters</ins>\n",
    "\n",
    "Now, we vary the template size and the threshold and see how it affects our result. "
   ]
  },
  {
   "cell_type": "code",
   "execution_count": null,
   "metadata": {},
   "outputs": [],
   "source": [
    "# define a function that does the template matching and returns a binary filtered array\n",
    "\n",
    "def temp_match(roi_size, threshold, template_posn):\n",
    "    template = img_gray[template_posn[0]:template_posn[0]+roi_size,template_posn[1]:template_posn[1]+roi_size]\n",
    "    res = cv2.matchTemplate(img_gray, template, cv2.TM_SQDIFF_NORMED)\n",
    "    simple_mask = np.where(res<=threshold, 1, 0)\n",
    "    \n",
    "    return simple_mask"
   ]
  },
  {
   "cell_type": "markdown",
   "metadata": {},
   "source": [
    "### Vary the template size: \n",
    "\n",
    "See the difference between having an template size of 10, 20 and 30 pixels."
   ]
  },
  {
   "cell_type": "code",
   "execution_count": null,
   "metadata": {},
   "outputs": [],
   "source": [
    "size = [10, 20, 30]\n",
    "t = 0.25\n",
    "posn = [275,500]\n",
    "\n",
    "fig, ax = plt.subplots(ncols=4, nrows=1, figsize=(20,5))\n",
    "for iter, roi in enumerate(size):\n",
    "    mask=temp_match(roi, t, posn)\n",
    "    ax[iter].imshow(mask, cmap='gray');\n",
    "    ax[iter].set_title('Template Size = %i' %roi)\n",
    "ax[3].imshow(img_gray, cmap='gray')\n",
    "ax[3].set_title('original')"
   ]
  },
  {
   "cell_type": "markdown",
   "metadata": {},
   "source": [
    "### Vary the threshold: \n",
    "\n",
    "See the difference between having an threshold of 0.20, 0.25 and 0.30."
   ]
  },
  {
   "cell_type": "code",
   "execution_count": null,
   "metadata": {},
   "outputs": [],
   "source": [
    "size = 20\n",
    "t = [0.20, 0.25, 0.30]\n",
    "posn = [275,500]\n",
    "\n",
    "fig, ax = plt.subplots(ncols=4, nrows=1, figsize=(20,5))\n",
    "for iter, threshold in enumerate(t):\n",
    "    mask=temp_match(size, threshold, posn)\n",
    "    ax[iter].imshow(mask, cmap='gray');\n",
    "    ax[iter].set_title('Threshold = %f' %threshold)\n",
    "ax[3].imshow(img_gray, cmap='gray')\n",
    "ax[3].set_title('original')"
   ]
  },
  {
   "cell_type": "code",
   "execution_count": null,
   "metadata": {},
   "outputs": [],
   "source": []
  }
 ],
 "metadata": {
  "kernelspec": {
   "display_name": "Python 3",
   "language": "python",
   "name": "python3"
  },
  "language_info": {
   "codemirror_mode": {
    "name": "ipython",
    "version": 3
   },
   "file_extension": ".py",
   "mimetype": "text/x-python",
   "name": "python",
   "nbconvert_exporter": "python",
   "pygments_lexer": "ipython3",
   "version": "3.7.6"
  }
 },
 "nbformat": 4,
 "nbformat_minor": 2
}
