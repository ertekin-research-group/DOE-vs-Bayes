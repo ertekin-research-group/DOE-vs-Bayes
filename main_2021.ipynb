{
 "cells": [
  {
   "cell_type": "markdown",
   "metadata": {},
   "source": [
    "# Machine Learning for SEM Image Segmentation in Materials Science\n",
    "\n",
    "Scanning electron microscopy (SEM) images are typically used to observe the growth results of a synthesis experiment, such as areal coverage, nucleation density, and the shape, size, and quality of graphene domains. While the visual inspection of images can sometimes be sufficient to determine the quality of graphene, it is desirable to determine quantitative metrics as well. Quantitative metrics can provide for easier comparison between experimental results and are useful as response variables when attempting to predict optimal recipes. To calculate these metrics, we need to segment the image and each pixel needs to be classified as 'graphene' or 'not-graphene'. \n",
    "\n",
    "The tutorials here will give you an insight into the usage of machine learning to segment microscopy images. \n",
    "\n",
    " * **Get started:** Click on the links below to begin each tutorial.\n",
    "\n",
    " * **Important:** To exit individual tutorials and return to this page, use `File -> Close and Halt`. \"Terminate Session\" (top right) will kill your entire Jupyter session.\n",
    "\n",
    "\n",
    "### [Template Matching:](bin/Template_Matching.ipynb)\n",
    "- Use template matching to segment a microscopy image of graphene on copper\n",
    "- See the effects of changing the variables - ROI size, threshold and statistical technique\n",
    "\n",
    "\n",
    "### [K-Means Clustering:](bin/K-Means.ipynb)\n",
    "- Use K-Means Clustering to segment a microscopy image of graphene on copper\n",
    "- See the effects of changing the variables - window size, stride and number of clusters\n",
    "\n",
    "\n",
    "### [Training a U-Net model for Detection of Graphene:](bin/U-Net_Training.ipynb)\n",
    "- Train a deep neural network to classify microscopy images of graphene on a substrate\n",
    "\n",
    "\n",
    "### [Detection of Graphene using U-Net model:](bin/U-Net_Detection.ipynb)\n",
    "- Use the trained model to classify a microscopy image of graphene on copper\n",
    "- **You can also submit your own image for classification and download the segmented image (added after the workshop)**\n",
    "\n"
   ]
  },
  {
   "cell_type": "code",
   "execution_count": null,
   "metadata": {},
   "outputs": [],
   "source": []
  }
 ],
 "metadata": {
  "kernelspec": {
   "display_name": "Python 3",
   "language": "python",
   "name": "python3"
  },
  "language_info": {
   "codemirror_mode": {
    "name": "ipython",
    "version": 3
   },
   "file_extension": ".py",
   "mimetype": "text/x-python",
   "name": "python",
   "nbconvert_exporter": "python",
   "pygments_lexer": "ipython3",
   "version": "3.7.6"
  }
 },
 "nbformat": 4,
 "nbformat_minor": 2
}
