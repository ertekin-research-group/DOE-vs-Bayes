{
 "cells": [
  {
   "cell_type": "markdown",
   "metadata": {},
   "source": [
    "# Design of Experiments vs. Bayesian Optimization \n",
    "\n",
    "One of the goals of Gr-ResQ is to accelerate the optimization of a synthesis recipe for a 2D material using methods from data sciences. We have made this notebook to illustrate the difference between optimization using traditional Design of Experiments and Bayesian optimization.  \n",
    "\n",
    "These are two possible approaches to global optimization. Global optimization is a challenging search problem. We want to find an input that results in the minimum or maximum cost of a given objective function. The form of the objective function is usually unknown and complex.  It may be  non-convex, nonlinear, high dimensional, noisy, and expensive to evaluate.  If it is expensive to evaluate, then ideally we would like to converge to the optimum in as few evaluations as possible. \n",
    "\n",
    "The examples in these notebooks are hypothetical -- we will simply apply DOE and Bayesian approaches to try to find the maximum value of an unknown mathematical function. By sampling the function (selecting certain values for input parameters and finding the associated output), we try to quickly converge to the optimum. The optimum is the set of input parameters that yield the maximum value of the function.  \n",
    "\n",
    "However, even though the exercises are hypothetical try to imagine extending the example to optimizing the synthesis process for a 2D material. Here, the input is high-dimensional: temperatures, gas flow rates, etc.  The output may be something like the amount of coverage of graphene achieved on the substrate.  \n",
    "\n",
    " * **Get started:** Click on the links below to begin each tutorial.\n",
    "\n",
    " * **Important:** To exit individual tutorials and return to this page, use `File -> Close and Halt`. \"Terminate Session\" (top right) will kill your entire Jupyter session.\n",
    "\n",
    "\n",
    "### [Design of Experiments:](bin/DOE.ipynb)\n",
    "- Use design of experiments to identify the maximum value of an unknown function. \n",
    "- See the effects of changing the dimensionality of the search space on the liklihood of finding the maximum and number of steps required.\n",
    "\n",
    "\n",
    "### [Bayesian Optimization:](bin/bayes.ipynb)\n",
    "- Use Bayesian optimization to identify the maximum value of the same unknown function. \n",
    "- See the effects of changing the dimensionality of the search space on the liklihood of finding the maximum and number of steps required.\n",
    "\n",
    "\n",
    "\n",
    "\n"
   ]
  },
  {
   "cell_type": "code",
   "execution_count": null,
   "metadata": {},
   "outputs": [],
   "source": []
  }
 ],
 "metadata": {
  "kernelspec": {
   "display_name": "Python 3",
   "language": "python",
   "name": "python3"
  },
  "language_info": {
   "codemirror_mode": {
    "name": "ipython",
    "version": 3
   },
   "file_extension": ".py",
   "mimetype": "text/x-python",
   "name": "python",
   "nbconvert_exporter": "python",
   "pygments_lexer": "ipython3",
   "version": "3.7.6"
  }
 },
 "nbformat": 4,
 "nbformat_minor": 2
}
